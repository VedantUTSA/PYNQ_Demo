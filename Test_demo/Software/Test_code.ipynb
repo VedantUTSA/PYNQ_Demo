{
 "cells": [
  {
   "cell_type": "code",
   "execution_count": 23,
   "metadata": {
    "collapsed": true
   },
   "outputs": [],
   "source": [
    "#GPIO test\n",
    "#from pynq import Overlay\n",
    "#ol = Overlay(\"./design_1.bit\")"
   ]
  },
  {
   "cell_type": "code",
   "execution_count": 20,
   "metadata": {
    "collapsed": true
   },
   "outputs": [],
   "source": [
    "from pynq import GPIO\n",
    "Out0 = GPIO(GPIO.get_gpio_pin(4), 'out')\n",
    "Out1 = GPIO(GPIO.get_gpio_pin(5), 'out')\n",
    "Out2 = GPIO(GPIO.get_gpio_pin(6), 'out')\n",
    "Out3 = GPIO(GPIO.get_gpio_pin(7), 'out')\n",
    "in0 = GPIO(GPIO.get_gpio_pin(0), 'in')\n",
    "in1 = GPIO(GPIO.get_gpio_pin(1), 'in')\n",
    "in2 = GPIO(GPIO.get_gpio_pin(2), 'in')\n",
    "in3 = GPIO(GPIO.get_gpio_pin(3), 'in')"
   ]
  },
  {
   "cell_type": "code",
   "execution_count": 21,
   "metadata": {
    "collapsed": true
   },
   "outputs": [],
   "source": [
    "Out0.write(1)\n",
    "Out1.write(0)\n",
    "Out2.write(1)\n",
    "Out3.write(1)\n",
    "\n"
   ]
  },
  {
   "cell_type": "code",
   "execution_count": 22,
   "metadata": {},
   "outputs": [
    {
     "name": "stdout",
     "output_type": "stream",
     "text": [
      "0\n",
      "1\n",
      "1\n",
      "1\n"
     ]
    }
   ],
   "source": [
    "print(in0.read())\n",
    "print(in1.read())\n",
    "print(in2.read())\n",
    "print(in3.read())"
   ]
  },
  {
   "cell_type": "code",
   "execution_count": null,
   "metadata": {},
   "outputs": [],
   "source": []
  }
 ],
 "metadata": {
  "kernelspec": {
   "display_name": "Python 3",
   "language": "python",
   "name": "python3"
  },
  "language_info": {
   "codemirror_mode": {
    "name": "ipython",
    "version": 3
   },
   "file_extension": ".py",
   "mimetype": "text/x-python",
   "name": "python",
   "nbconvert_exporter": "python",
   "pygments_lexer": "ipython3",
   "version": "3.6.0"
  }
 },
 "nbformat": 4,
 "nbformat_minor": 2
}
